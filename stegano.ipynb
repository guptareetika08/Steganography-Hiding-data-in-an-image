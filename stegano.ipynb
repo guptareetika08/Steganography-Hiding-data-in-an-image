{
 "cells": [
  {
   "cell_type": "code",
   "execution_count": 1,
   "id": "acc87d03",
   "metadata": {},
   "outputs": [
    {
     "ename": "AttributeError",
     "evalue": "'NoneType' object has no attribute 'shape'",
     "output_type": "error",
     "traceback": [
      "\u001b[1;31m---------------------------------------------------------------------------\u001b[0m",
      "\u001b[1;31mAttributeError\u001b[0m                            Traceback (most recent call last)",
      "Cell \u001b[1;32mIn[1], line 10\u001b[0m\n\u001b[0;32m      8\u001b[0m     b[i]\u001b[38;5;241m=\u001b[39m\u001b[38;5;28mchr\u001b[39m(i)\n\u001b[0;32m      9\u001b[0m x\u001b[38;5;241m=\u001b[39mcv2\u001b[38;5;241m.\u001b[39mimread(\u001b[38;5;124m\"\u001b[39m\u001b[38;5;124mflower.jpg\u001b[39m\u001b[38;5;124m\"\u001b[39m)\n\u001b[1;32m---> 10\u001b[0m i\u001b[38;5;241m=\u001b[39mx\u001b[38;5;241m.\u001b[39mshape[\u001b[38;5;241m0\u001b[39m]\n\u001b[0;32m     11\u001b[0m j\u001b[38;5;241m=\u001b[39mx\u001b[38;5;241m.\u001b[39mshape[\u001b[38;5;241m1\u001b[39m]\n\u001b[0;32m     12\u001b[0m \u001b[38;5;28mprint\u001b[39m(i,j)\n",
      "\u001b[1;31mAttributeError\u001b[0m: 'NoneType' object has no attribute 'shape'"
     ]
    }
   ],
   "source": [
    "import cv2\n",
    "import string\n",
    "import os\n",
    "a={}\n",
    "b={}\n",
    "for i in range(255):\n",
    "    a[chr(i)]=i\n",
    "    b[i]=chr(i)\n",
    "x=cv2.imread(\"flower.jpg\")\n",
    "i=x.shape[0]\n",
    "j=x.shape[1]\n",
    "print(i,j)\n",
    "\n",
    "key1=input(\"Enter the key to edit(security key)\")\n",
    "text=input(\"Enter the text to hide in an image\")\n",
    "k=0\n",
    "tln=len(text)\n",
    "z=0\n",
    "n=0\n",
    "m=0\n",
    "l=len(text)\n",
    "for i in range(l):\n",
    "    x[n,m,z]=a[text[i]]^a[key[k]]\n",
    "    n=n+1\n",
    "    m=m+1\n",
    "    m=(m+1)%3\n",
    "    k=(k+1)%len(key1)\n",
    "\n",
    "cv2.imwrite(\"encrypted_img.jpg\",x)\n",
    "os.startfile(\"encrypted_img.jpg\")\n",
    "print(\"Data hiding in image completed successfully!\")\n",
    "\n",
    "k=0\n",
    "tln=len(text)\n",
    "z=0\n",
    "n=0\n",
    "m=0\n",
    "ch=int(input(\"enter 1 to extract data from image:\"))\n",
    "if ch==1:\n",
    "    key2=input(\"re-enter ky to extarct the text from image\")\n",
    "    decrypt=\"\"\n",
    "    if key1==key2:\n",
    "        for i in range(tln):\n",
    "            decrypt+=b[x[n,m,z]^a[key1[k]]]\n",
    "            n=n+1\n",
    "            m=m+1\n",
    "            m=(m+1)%3\n",
    "            k=(k+1)%len(key1)\n",
    "        print(\"encrypted text:\",decrypt)\n",
    "    else:\n",
    "        print(\"key doesn't match\")\n",
    "else:\n",
    "    print(\"Thank you, EXITING!\")  \n",
    "                      "
   ]
  },
  {
   "cell_type": "code",
   "execution_count": null,
   "id": "e2db27cb",
   "metadata": {},
   "outputs": [],
   "source": []
  }
 ],
 "metadata": {
  "kernelspec": {
   "display_name": "Python 3 (ipykernel)",
   "language": "python",
   "name": "python3"
  },
  "language_info": {
   "codemirror_mode": {
    "name": "ipython",
    "version": 3
   },
   "file_extension": ".py",
   "mimetype": "text/x-python",
   "name": "python",
   "nbconvert_exporter": "python",
   "pygments_lexer": "ipython3",
   "version": "3.11.5"
  }
 },
 "nbformat": 4,
 "nbformat_minor": 5
}
